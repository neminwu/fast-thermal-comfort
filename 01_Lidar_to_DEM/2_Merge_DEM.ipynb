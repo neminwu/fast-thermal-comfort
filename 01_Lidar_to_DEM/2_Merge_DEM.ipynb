{
 "cells": [
  {
   "cell_type": "markdown",
   "id": "055971b2",
   "metadata": {},
   "source": [
    "## 1.2. Merge DEM tiles to one DEM file\n",
    "\n",
    "This function is to merge multiple DEM files (*.tif) into one file (.tif)."
   ]
  },
  {
   "cell_type": "code",
   "execution_count": null,
   "id": "a50f8ad3",
   "metadata": {},
   "outputs": [],
   "source": [
    "import os\n",
    "import glob\n",
    "import rasterio\n",
    "from rasterio.merge import merge\n",
    "\n",
    "### --- Configuration (User MUST update these paths) --- ###\n",
    "DEM_SOURCE_DIR = \"/media/remap/NO_HEAT_RB/City_Atlanta/Raw/DEM/\" # all tif here should be DEM\n",
    "DEM_OUTPUT_PATH = \"/media/remap/NO_HEAT_RB/City_Atlanta/Processed/DEM/output/DEM_merged.tif\"\n",
    "### ---------------------------------------------------- ###"
   ]
  },
  {
   "cell_type": "code",
   "execution_count": null,
   "id": "f05a6d9c",
   "metadata": {},
   "outputs": [],
   "source": [
    "def merge_all_tiles(dem_source_dir, dem_out_path):\n",
    "    os.makedirs(os.path.dirname(dem_out_path), exist_ok=True)\n",
    "    tif_files = []\n",
    "    for root, dirs, files in os.walk(dem_source_dir):\n",
    "        for file in files:\n",
    "            if file.lower().endswith('.tif'):\n",
    "                tif_files.append(os.path.join(root, file))\n",
    "    print(f\"Found {len(tif_files)} TIFF files.\")\n",
    "\n",
    "    # Open all tiff files and add them to a list\n",
    "    src_files_to_merge = []\n",
    "    for fp in tif_files:\n",
    "        src = rasterio.open(fp)\n",
    "        src_files_to_merge.append(src)\n",
    "\n",
    "    # Merge the rasters\n",
    "    mosaic, out_trans = merge(src_files_to_merge)\n",
    "\n",
    "    # Update metadata from one of the source files (first one in this case)\n",
    "    out_meta = src_files_to_merge[0].meta.copy()\n",
    "    out_meta.update({\n",
    "        \"driver\": \"GTiff\",\n",
    "        \"height\": mosaic.shape[1],\n",
    "        \"width\": mosaic.shape[2],\n",
    "        \"transform\": out_trans\n",
    "    })\n",
    "\n",
    "    # Write the mosaic to disk\n",
    "    with rasterio.open(dem_out_path, \"w\", **out_meta) as dest:\n",
    "        dest.write(mosaic)\n",
    "        print(f\"crs is {dest.crs}\")\n",
    "    print(f\"Merged raster saved as {dem_out_path}\")\n",
    "\n",
    "\n",
    "    # Close all the open datasets\n",
    "    for src in src_files_to_merge:\n",
    "        src.close()"
   ]
  },
  {
   "cell_type": "code",
   "execution_count": null,
   "id": "82fe6bb3",
   "metadata": {},
   "outputs": [],
   "source": [
    "if __name__ == '__main__':\n",
    "    merge_all_tiles(DEM_SOURCE_DIR, DEM_OUTPUT_PATH)"
   ]
  }
 ],
 "metadata": {
  "language_info": {
   "name": "python"
  }
 },
 "nbformat": 4,
 "nbformat_minor": 5
}
