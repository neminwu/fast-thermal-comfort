{
 "cells": [
  {
   "cell_type": "markdown",
   "id": "0c111541",
   "metadata": {},
   "source": [
    "# 3. Generating building polygons containing building height attribute"
   ]
  },
  {
   "cell_type": "markdown",
   "id": "dae439a7",
   "metadata": {},
   "source": [
    "## 3.1. Download building footprints through leafmap and Overture Maps\n",
    "\n",
    "First, you need to install leafmap and overturemaps"
   ]
  },
  {
   "cell_type": "code",
   "execution_count": null,
   "id": "c3b3b646",
   "metadata": {},
   "outputs": [],
   "source": [
    "#%pip install -U leafmap overturemaps"
   ]
  },
  {
   "cell_type": "markdown",
   "id": "58d9f860",
   "metadata": {},
   "source": [
    "Inside leafmap, you can use interactive map to see your area of interest."
   ]
  },
  {
   "cell_type": "code",
   "execution_count": 1,
   "id": "7ebfce26",
   "metadata": {},
   "outputs": [
    {
     "data": {
      "application/vnd.jupyter.widget-view+json": {
       "model_id": "1601153e07e74640ad992a33579a7ed9",
       "version_major": 2,
       "version_minor": 0
      },
      "text/plain": [
       "Map(center=[33.63, -84.57], controls=(ZoomControl(options=['position', 'zoom_in_text', 'zoom_in_title', 'zoom_…"
      ]
     },
     "execution_count": 1,
     "metadata": {},
     "output_type": "execute_result"
    }
   ],
   "source": [
    "import leafmap\n",
    "from shapely.geometry import box\n",
    "import geopandas as gpd\n",
    "\n",
    "bbox = [-84.572208,33.6301,-84.2682,33.9047]\n",
    "bbox_geom = box(*bbox)\n",
    "gdf = gpd.GeoDataFrame({'geometry': [bbox_geom]}, crs=\"EPSG:4326\")\n",
    "\n",
    "m = leafmap.Map(center=[33.63,-84.57], zoom=11)\n",
    "m.add_basemap(\"SATELLITE\")\n",
    "m.add_gdf(gdf, layer_name=\"Bounding Box\", style={\"color\": \"red\", \"weight\": 2, \"fillOpacity\": 0.0})\n",
    "\n",
    "m"
   ]
  },
  {
   "cell_type": "code",
   "execution_count": null,
   "id": "b1fce391",
   "metadata": {},
   "outputs": [],
   "source": [
    "# Define CRS, columns, output explicitly\n",
    "columns = [\"id\", \"height\", \"geometry\"]\n",
    "output = \"C:/Users/Hojung Yu/Documents/atlanta_building.geojson\""
   ]
  },
  {
   "cell_type": "code",
   "execution_count": null,
   "id": "c42df9d2",
   "metadata": {},
   "outputs": [],
   "source": [
    "buildings_gdf = leafmap.get_overture_data(\n",
    "    \"building\", bbox=bbox, columns=columns, output=output\n",
    ")\n",
    "# m = leafmap.Map(center=[42.33078,-71.059325], zoom=17)\n",
    "# m.add_basemap(\"SATELLITE\")\n",
    "# m.add_gdf(buildings_gdf, layer_name=\"Buildings\")"
   ]
  }
 ],
 "metadata": {
  "kernelspec": {
   "display_name": "no_heat",
   "language": "python",
   "name": "python3"
  },
  "language_info": {
   "codemirror_mode": {
    "name": "ipython",
    "version": 3
   },
   "file_extension": ".py",
   "mimetype": "text/x-python",
   "name": "python",
   "nbconvert_exporter": "python",
   "pygments_lexer": "ipython3",
   "version": "3.10.16"
  }
 },
 "nbformat": 4,
 "nbformat_minor": 5
}
