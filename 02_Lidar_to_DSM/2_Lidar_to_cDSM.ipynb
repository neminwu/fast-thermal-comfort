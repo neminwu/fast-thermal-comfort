{
 "cells": [
  {
   "cell_type": "markdown",
   "id": "d085db24",
   "metadata": {},
   "source": [
    "## 2.5. LiDAR to Canopy DSM"
   ]
  },
  {
   "cell_type": "code",
   "execution_count": null,
   "id": "ce85daf3",
   "metadata": {},
   "outputs": [],
   "source": [
    "import os\n",
    "from pathlib import Path\n",
    "import pathlib\n",
    "import rasterio as rio\n",
    "from rasterio.merge import merge\n",
    "from rasterio.warp import calculate_default_transform, reproject, Resampling\n",
    "from rasterio.io import MemoryFile\n",
    "import numpy as np\n",
    "\n",
    "# Input files\n",
    "DSM_A_PATH = \"/media/remap/NO_HEAT_RB/City_Atlanta/Processed/DSM/atlanta_DSM_reprojected.tif\"\n",
    "DSM_B_PATH = \"/media/remap/NO_HEAT_RB/City_Atlanta/Processed/DEM/output/DEM_merged.tif\"\n",
    "OUTPUT_PATH = \"/media/remap/NO_HEAT_RB/City_Atlanta/Processed/DSM/normalized_DSM.tif\""
   ]
  },
  {
   "cell_type": "code",
   "execution_count": null,
   "id": "5eb300e6",
   "metadata": {},
   "outputs": [],
   "source": [
    "def match_raster_to_reference(reference_path: str, source_path: str, output_path: str) -> None:\n",
    "    \"\"\"\n",
    "    Resamples and reprojects source raster to match the resolution, extent,\n",
    "    and CRS of the reference raster, and saves the result to output_path.\n",
    "\n",
    "    Parameters:\n",
    "    - reference_path (str): Path to the raster whose spatial properties should be matched.\n",
    "    - source_path (str): Path to the input raster to be aligned.\n",
    "    - output_path (str): Path where the resampled raster will be saved.\n",
    "    \"\"\"\n",
    "    with rio.open(reference_path) as ref:\n",
    "        ref_crs = ref.crs\n",
    "        ref_transform = ref.transform\n",
    "        ref_width = ref.width\n",
    "        ref_height = ref.height\n",
    "        ref_profile = ref.profile.copy()\n",
    "        \n",
    "        with rio.open(source_path) as src:\n",
    "            src_data = src.read(1)\n",
    "            src_crs = src.crs\n",
    "            src_dtype = src.dtypes[0]\n",
    "\n",
    "            dst_data = np.empty((ref_height, ref_width), dtype=src_dtype)\n",
    "\n",
    "            reproject(\n",
    "                source=src_data,\n",
    "                destination=dst_data,\n",
    "                src_transform=src.transform,\n",
    "                src_crs=src_crs,\n",
    "                dst_transform=ref_transform,\n",
    "                dst_crs=ref_crs,\n",
    "                resampling=Resampling.bilinear  \n",
    "            )\n",
    "\n",
    "            ref_profile.update({\n",
    "                \"dtype\": src_dtype,\n",
    "                \"height\": ref_height,\n",
    "                \"width\": ref_width,\n",
    "                \"transform\": ref_transform,\n",
    "                \"count\": 1\n",
    "            })\n",
    "\n",
    "            with rio.open(output_path, \"w\", **ref_profile) as dst:\n",
    "                dst.write(dst_data, 1)\n",
    "\n",
    "    print(f\"Aligned raster saved to: {output_path}\")"
   ]
  },
  {
   "cell_type": "code",
   "execution_count": null,
   "id": "33ae10b9",
   "metadata": {},
   "outputs": [],
   "source": [
    "def subtract_a_b(\n",
    "    from_dsm_path, \n",
    "    subtract_dsm_path,\n",
    "    output\n",
    ") -> None:\n",
    "    \"\"\"\n",
    "    Subtract array from from_dsm_path, to subtract_dsm_path\n",
    "    \"\"\"    \n",
    "    with rio.open(from_dsm_path) as src1, rio.open(subtract_dsm_path) as src2:\n",
    "        if (src1.width != src2.width or src1.height != src2.height or src1.transform != src2.transform):\n",
    "            aligned_path = os.path.join(os.path.dirname(subtract_dsm_path), pathlib.Path(subtract_dsm_path).stem + \"aligned.tif\")\n",
    "            match_raster_to_reference(\n",
    "                reference_path=from_dsm_path,\n",
    "                source_path=subtract_dsm_path,\n",
    "                output_path=aligned_path\n",
    "            )\n",
    "            src2 = rio.open(aligned_path) # update src2 to the aligned one.\n",
    "        meta = src1.meta.copy()\n",
    "        meta.update(dtype='float32', count=1, nodata=0)\n",
    "\n",
    "        with rio.open(output, 'w', **meta) as dst:\n",
    "            for ji, window in src1.block_windows(1):\n",
    "                v1 = src1.read(1, window = window)\n",
    "                v2 = src2.read(1, window = window)\n",
    "                diff = v1 - v2\n",
    "                diff[diff < 0] = 0\n",
    "                dst.write(diff.astype('float32'), window = window, indexes = 1)\n",
    "\n",
    "    print(f\"Saved to {output}\")"
   ]
  },
  {
   "cell_type": "code",
   "execution_count": null,
   "id": "24131c9a",
   "metadata": {},
   "outputs": [],
   "source": [
    "subtract_a_b(DSM_A_PATH, DSM_B_PATH, OUTPUT_PATH)"
   ]
  }
 ],
 "metadata": {
  "kernelspec": {
   "display_name": "no_heat",
   "language": "python",
   "name": "python3"
  },
  "language_info": {
   "name": "python",
   "version": "3.10.16"
  }
 },
 "nbformat": 4,
 "nbformat_minor": 5
}
